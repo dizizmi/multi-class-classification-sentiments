{
 "cells": [
  {
   "cell_type": "markdown",
   "id": "a5db9c23",
   "metadata": {},
   "source": [
    "# Classification of US Airline Sentiments with dense layer\n",
    "\n",
    "## 1. Introduction\n",
    "\n",
    " In this scenario, the objective is to perform a multi-class classification task, specifically categorizing sentiments related to Twitter posts about US airlines into three distinct classes. This implies that the model aims to classify tweets into positive, negative, or neutral sentiments. This is based off the Kaggle Twitter US Airline Sentiment: \n",
    " - https://www.kaggle.com/datasets/crowdflower/twitter-airline-sentiment.\n",
    " \n",
    "There were articles such as Airbnb's effort at discovering and classifying message intent from Airbnb to classify guests and allow them to response to them more quickly. This is similar to the project in terms of analysing user's intent based on sentiments (Du, 2019).\n",
    "\n",
    "The dataset utilized for this task is characterized by imbalances, meaning that the distribution of tweets across the three sentiment classes is not uniform. One or more sentiment classes may have a significantly larger or smaller number of instances compared to the others.\n",
    "\n",
    " The data is unstructured and comprises text data in the form of tweets. This type of data poses challenges for traditional machine learning models (Priya, 2023), as it requires natural language processing (NLP) techniques to extract meaningful information and patterns from the text.\n",
    "\n",
    " To transform the raw text data into a format suitable for machine learning models, Term Frequency-Inverse Document Frequency (TF-IDF) vectors are employed. This technique quantifies the importance of each word in a tweet relative to the entire dataset, providing a numerical representation of the textual information.\n",
    "\n",
    "The model output is designed to predict the probabilities of the input tweets belonging to each sentiment class. Instead of providing a definitive classification, the model offers a probability distribution across the three classes, allowing for a more nuanced interpretation of the sentiment expressed in the tweets.\n",
    "\n",
    "Given the imbalanced nature of the data, where some sentiment classes may have more instances than others, addressing this issue becomes crucial. To mitigate the impact of imbalances during the training phase, class weights are employed. This involves assigning higher weights to the under-represented classes, allowing the model to place more emphasis on learning patterns from these classes and preventing biased predictions towards the majority class.\n",
    "\n",
    "\n",
    "\n",
    "## 2. Measure of success\n",
    "\n",
    "In the context of the Kaggle Twitter US Airline Sentiment dataset, where the task involves multi-class sentiment analysis, the evaluation protocol encompasses defining the problem, assembling the dataset, selecting metrics like Balanced Accuracy Score, Precision, Recall, AUC, and F1 Score, and employing both a hold-out validation set and K-fold cross-validation to comprehensively assess the success of the machine learning models. \n",
    "\n",
    "Given the nature of the sentiment analysis, metrics suitable for multi-class classifications such as Balanced Accuracy Score is good for imbalanced data. Preicision and recall can measure accuracy of positive classifications while detecting positive sentiments. AUC  can distinguish between classes, and F1 scores consider positive and false negatives to balance precision and recall.\n",
    "\n",
    "K-Fold Cross-Validation can evaluate model performance especially when the dataset size is limited.The dataset is partitioned into k subsets (folds), and the model is trained and evaluated k times, each time using a different fold as the validation set.\n",
    "\n",
    "\n",
    "\n",
    "\n",
    "\n"
   ]
  },
  {
   "cell_type": "code",
   "execution_count": 67,
   "id": "2d29ec7b",
   "metadata": {},
   "outputs": [],
   "source": [
    "import os\n",
    "\n",
    "import pandas as pd\n",
    "import numpy as np\n",
    "\n",
    "from sklearn.preprocessing import LabelEncoder\n",
    "from sklearn.model_selection import train_test_split, KFold\n",
    "from sklearn.model_selection import StratifiedKFold\n",
    "from sklearn.utils.class_weight import compute_class_weight\n",
    "from sklearn.metrics import accuracy_score, precision_score, recall_score, roc_auc_score\n",
    "from sklearn.metrics import balanced_accuracy_score, confusion_matrix, ConfusionMatrixDisplay\n",
    "from sklearn.feature_extraction.text import TfidfVectorizer\n",
    "\n",
    "import keras\n",
    "from keras.models import Sequential, clone_model\n",
    "from keras.layers import Dense, Dropout, TextVectorization\n",
    "from keras.callbacks import EarlyStopping\n",
    "from keras.regularizers import l2\n",
    "from keras.utils import to_categorical\n",
    "import tensorflow\n",
    "from tensorflow.keras.optimizers import RMSprop\n",
    "from tensorflow.keras.metrics import F1Score, AUC\n",
    "\n",
    "import itertools\n",
    "import matplotlib.pyplot as plt\n",
    "\n",
    "SEED =204\n"
   ]
  },
  {
   "cell_type": "markdown",
   "id": "6c863293",
   "metadata": {},
   "source": [
    "## 4. Preparing data\n",
    "\n",
    "Since the data is already compiled by its sentiments, can drop all the other features."
   ]
  },
  {
   "cell_type": "code",
   "execution_count": 112,
   "id": "5277d037",
   "metadata": {},
   "outputs": [
    {
     "data": {
      "text/html": [
       "<div>\n",
       "<style scoped>\n",
       "    .dataframe tbody tr th:only-of-type {\n",
       "        vertical-align: middle;\n",
       "    }\n",
       "\n",
       "    .dataframe tbody tr th {\n",
       "        vertical-align: top;\n",
       "    }\n",
       "\n",
       "    .dataframe thead th {\n",
       "        text-align: right;\n",
       "    }\n",
       "</style>\n",
       "<table border=\"1\" class=\"dataframe\">\n",
       "  <thead>\n",
       "    <tr style=\"text-align: right;\">\n",
       "      <th></th>\n",
       "      <th>tweet_id</th>\n",
       "      <th>airline_sentiment</th>\n",
       "      <th>airline_sentiment_confidence</th>\n",
       "      <th>negativereason</th>\n",
       "      <th>negativereason_confidence</th>\n",
       "      <th>airline</th>\n",
       "      <th>airline_sentiment_gold</th>\n",
       "      <th>name</th>\n",
       "      <th>negativereason_gold</th>\n",
       "      <th>retweet_count</th>\n",
       "      <th>text</th>\n",
       "      <th>tweet_coord</th>\n",
       "      <th>tweet_created</th>\n",
       "      <th>tweet_location</th>\n",
       "      <th>user_timezone</th>\n",
       "    </tr>\n",
       "  </thead>\n",
       "  <tbody>\n",
       "    <tr>\n",
       "      <th>0</th>\n",
       "      <td>570306133677760513</td>\n",
       "      <td>neutral</td>\n",
       "      <td>1.0000</td>\n",
       "      <td>NaN</td>\n",
       "      <td>NaN</td>\n",
       "      <td>Virgin America</td>\n",
       "      <td>NaN</td>\n",
       "      <td>cairdin</td>\n",
       "      <td>NaN</td>\n",
       "      <td>0</td>\n",
       "      <td>@VirginAmerica What @dhepburn said.</td>\n",
       "      <td>NaN</td>\n",
       "      <td>2015-02-24 11:35:52 -0800</td>\n",
       "      <td>NaN</td>\n",
       "      <td>Eastern Time (US &amp; Canada)</td>\n",
       "    </tr>\n",
       "    <tr>\n",
       "      <th>1</th>\n",
       "      <td>570301130888122368</td>\n",
       "      <td>positive</td>\n",
       "      <td>0.3486</td>\n",
       "      <td>NaN</td>\n",
       "      <td>0.0000</td>\n",
       "      <td>Virgin America</td>\n",
       "      <td>NaN</td>\n",
       "      <td>jnardino</td>\n",
       "      <td>NaN</td>\n",
       "      <td>0</td>\n",
       "      <td>@VirginAmerica plus you've added commercials t...</td>\n",
       "      <td>NaN</td>\n",
       "      <td>2015-02-24 11:15:59 -0800</td>\n",
       "      <td>NaN</td>\n",
       "      <td>Pacific Time (US &amp; Canada)</td>\n",
       "    </tr>\n",
       "    <tr>\n",
       "      <th>2</th>\n",
       "      <td>570301083672813571</td>\n",
       "      <td>neutral</td>\n",
       "      <td>0.6837</td>\n",
       "      <td>NaN</td>\n",
       "      <td>NaN</td>\n",
       "      <td>Virgin America</td>\n",
       "      <td>NaN</td>\n",
       "      <td>yvonnalynn</td>\n",
       "      <td>NaN</td>\n",
       "      <td>0</td>\n",
       "      <td>@VirginAmerica I didn't today... Must mean I n...</td>\n",
       "      <td>NaN</td>\n",
       "      <td>2015-02-24 11:15:48 -0800</td>\n",
       "      <td>Lets Play</td>\n",
       "      <td>Central Time (US &amp; Canada)</td>\n",
       "    </tr>\n",
       "    <tr>\n",
       "      <th>3</th>\n",
       "      <td>570301031407624196</td>\n",
       "      <td>negative</td>\n",
       "      <td>1.0000</td>\n",
       "      <td>Bad Flight</td>\n",
       "      <td>0.7033</td>\n",
       "      <td>Virgin America</td>\n",
       "      <td>NaN</td>\n",
       "      <td>jnardino</td>\n",
       "      <td>NaN</td>\n",
       "      <td>0</td>\n",
       "      <td>@VirginAmerica it's really aggressive to blast...</td>\n",
       "      <td>NaN</td>\n",
       "      <td>2015-02-24 11:15:36 -0800</td>\n",
       "      <td>NaN</td>\n",
       "      <td>Pacific Time (US &amp; Canada)</td>\n",
       "    </tr>\n",
       "    <tr>\n",
       "      <th>4</th>\n",
       "      <td>570300817074462722</td>\n",
       "      <td>negative</td>\n",
       "      <td>1.0000</td>\n",
       "      <td>Can't Tell</td>\n",
       "      <td>1.0000</td>\n",
       "      <td>Virgin America</td>\n",
       "      <td>NaN</td>\n",
       "      <td>jnardino</td>\n",
       "      <td>NaN</td>\n",
       "      <td>0</td>\n",
       "      <td>@VirginAmerica and it's a really big bad thing...</td>\n",
       "      <td>NaN</td>\n",
       "      <td>2015-02-24 11:14:45 -0800</td>\n",
       "      <td>NaN</td>\n",
       "      <td>Pacific Time (US &amp; Canada)</td>\n",
       "    </tr>\n",
       "  </tbody>\n",
       "</table>\n",
       "</div>"
      ],
      "text/plain": [
       "             tweet_id airline_sentiment  airline_sentiment_confidence  \\\n",
       "0  570306133677760513           neutral                        1.0000   \n",
       "1  570301130888122368          positive                        0.3486   \n",
       "2  570301083672813571           neutral                        0.6837   \n",
       "3  570301031407624196          negative                        1.0000   \n",
       "4  570300817074462722          negative                        1.0000   \n",
       "\n",
       "  negativereason  negativereason_confidence         airline  \\\n",
       "0            NaN                        NaN  Virgin America   \n",
       "1            NaN                     0.0000  Virgin America   \n",
       "2            NaN                        NaN  Virgin America   \n",
       "3     Bad Flight                     0.7033  Virgin America   \n",
       "4     Can't Tell                     1.0000  Virgin America   \n",
       "\n",
       "  airline_sentiment_gold        name negativereason_gold  retweet_count  \\\n",
       "0                    NaN     cairdin                 NaN              0   \n",
       "1                    NaN    jnardino                 NaN              0   \n",
       "2                    NaN  yvonnalynn                 NaN              0   \n",
       "3                    NaN    jnardino                 NaN              0   \n",
       "4                    NaN    jnardino                 NaN              0   \n",
       "\n",
       "                                                text tweet_coord  \\\n",
       "0                @VirginAmerica What @dhepburn said.         NaN   \n",
       "1  @VirginAmerica plus you've added commercials t...         NaN   \n",
       "2  @VirginAmerica I didn't today... Must mean I n...         NaN   \n",
       "3  @VirginAmerica it's really aggressive to blast...         NaN   \n",
       "4  @VirginAmerica and it's a really big bad thing...         NaN   \n",
       "\n",
       "               tweet_created tweet_location               user_timezone  \n",
       "0  2015-02-24 11:35:52 -0800            NaN  Eastern Time (US & Canada)  \n",
       "1  2015-02-24 11:15:59 -0800            NaN  Pacific Time (US & Canada)  \n",
       "2  2015-02-24 11:15:48 -0800      Lets Play  Central Time (US & Canada)  \n",
       "3  2015-02-24 11:15:36 -0800            NaN  Pacific Time (US & Canada)  \n",
       "4  2015-02-24 11:14:45 -0800            NaN  Pacific Time (US & Canada)  "
      ]
     },
     "execution_count": 112,
     "metadata": {},
     "output_type": "execute_result"
    }
   ],
   "source": [
    "tweets = pd.read_csv(\"Tweets.csv\")\n",
    "tweets.head()"
   ]
  },
  {
   "cell_type": "code",
   "execution_count": 69,
   "id": "fd0f2caf",
   "metadata": {},
   "outputs": [
    {
     "data": {
      "text/html": [
       "<div>\n",
       "<style scoped>\n",
       "    .dataframe tbody tr th:only-of-type {\n",
       "        vertical-align: middle;\n",
       "    }\n",
       "\n",
       "    .dataframe tbody tr th {\n",
       "        vertical-align: top;\n",
       "    }\n",
       "\n",
       "    .dataframe thead th {\n",
       "        text-align: right;\n",
       "    }\n",
       "</style>\n",
       "<table border=\"1\" class=\"dataframe\">\n",
       "  <thead>\n",
       "    <tr style=\"text-align: right;\">\n",
       "      <th></th>\n",
       "      <th>text</th>\n",
       "      <th>airline_sentiment</th>\n",
       "    </tr>\n",
       "  </thead>\n",
       "  <tbody>\n",
       "    <tr>\n",
       "      <th>0</th>\n",
       "      <td>@VirginAmerica What @dhepburn said.</td>\n",
       "      <td>neutral</td>\n",
       "    </tr>\n",
       "    <tr>\n",
       "      <th>1</th>\n",
       "      <td>@VirginAmerica plus you've added commercials t...</td>\n",
       "      <td>positive</td>\n",
       "    </tr>\n",
       "    <tr>\n",
       "      <th>2</th>\n",
       "      <td>@VirginAmerica I didn't today... Must mean I n...</td>\n",
       "      <td>neutral</td>\n",
       "    </tr>\n",
       "    <tr>\n",
       "      <th>3</th>\n",
       "      <td>@VirginAmerica it's really aggressive to blast...</td>\n",
       "      <td>negative</td>\n",
       "    </tr>\n",
       "    <tr>\n",
       "      <th>4</th>\n",
       "      <td>@VirginAmerica and it's a really big bad thing...</td>\n",
       "      <td>negative</td>\n",
       "    </tr>\n",
       "  </tbody>\n",
       "</table>\n",
       "</div>"
      ],
      "text/plain": [
       "                                                text airline_sentiment\n",
       "0                @VirginAmerica What @dhepburn said.           neutral\n",
       "1  @VirginAmerica plus you've added commercials t...          positive\n",
       "2  @VirginAmerica I didn't today... Must mean I n...           neutral\n",
       "3  @VirginAmerica it's really aggressive to blast...          negative\n",
       "4  @VirginAmerica and it's a really big bad thing...          negative"
      ]
     },
     "execution_count": 69,
     "metadata": {},
     "output_type": "execute_result"
    }
   ],
   "source": [
    "tweets = tweets[['text', 'airline_sentiment']]\n",
    "tweets.head()"
   ]
  },
  {
   "cell_type": "code",
   "execution_count": 70,
   "id": "afbdd70d",
   "metadata": {},
   "outputs": [],
   "source": [
    "TEST_SIZE=0.2\n",
    "X_train, X_test, y_train, y_test = train_test_split(tweets['text'], tweets['airline_sentiment'], test_size=TEST_SIZE, stratify=tweets['airline_sentiment'], shuffle=True, random_state=SEED)"
   ]
  },
  {
   "cell_type": "code",
   "execution_count": 71,
   "id": "f1f5bfdd",
   "metadata": {},
   "outputs": [
    {
     "data": {
      "text/plain": [
       "('very', 'good', 'very good', 'not good')"
      ]
     },
     "execution_count": 71,
     "metadata": {},
     "output_type": "execute_result"
    }
   ],
   "source": [
    "ngrams = 2 \n",
    "'very', 'good', 'very good', 'not good'"
   ]
  },
  {
   "cell_type": "code",
   "execution_count": 72,
   "id": "5e66d9ed",
   "metadata": {},
   "outputs": [],
   "source": [
    "max_features = 500\n",
    "ngrams = 2\n",
    "tfidf = TfidfVectorizer(ngram_range=(1, ngrams), max_features= max_features)\n",
    "tfidf.fit(X_train)\n",
    "\n",
    "x_train, x_test = tfidf.transform(X_train).toarray(), tfidf.transform(X_test).toarray()"
   ]
  },
  {
   "cell_type": "code",
   "execution_count": 73,
   "id": "a35010d4",
   "metadata": {},
   "outputs": [],
   "source": [
    "label_encoder = LabelEncoder()\n",
    "label_encoder.fit(tweets['airline_sentiment'])\n",
    "\n",
    "Y_train = to_categorical(label_encoder.transform(y_train))\n",
    "Y_test = to_categorical(label_encoder.transform(y_test))"
   ]
  },
  {
   "cell_type": "code",
   "execution_count": 74,
   "id": "15c249dc",
   "metadata": {},
   "outputs": [],
   "source": [
    "validation_size = x_test.shape[0]\n",
    "\n",
    "x_train, x_val, Y_train, Y_val = train_test_split(x_train, Y_train,\n",
    "                                                 test_size= validation_size , stratify= Y_train,\n",
    "                                                 shuffle=True, random_state=SEED)"
   ]
  },
  {
   "cell_type": "markdown",
   "id": "900fba54",
   "metadata": {},
   "source": [
    "## 5. Developing a model that do better than baseline:\n",
    "\n",
    "A Single Layer Perceptron (SLP) model likely to outperform a naive baseline. The non-linear relationships between words and sentiment labels uses SLP nonlinear activation to learn complext patterns to better model the nuances of sentiment expression. Further, the imbalanced dataset uses SLP to adjust weights during training so that it does not favour majority classes and provide a more balanced sentiment analysis.\n"
   ]
  },
  {
   "cell_type": "code",
   "execution_count": 75,
   "id": "3691ca67",
   "metadata": {},
   "outputs": [
    {
     "data": {
      "text/html": [
       "<div>\n",
       "<style scoped>\n",
       "    .dataframe tbody tr th:only-of-type {\n",
       "        vertical-align: middle;\n",
       "    }\n",
       "\n",
       "    .dataframe tbody tr th {\n",
       "        vertical-align: top;\n",
       "    }\n",
       "\n",
       "    .dataframe thead th {\n",
       "        text-align: right;\n",
       "    }\n",
       "</style>\n",
       "<table border=\"1\" class=\"dataframe\">\n",
       "  <thead>\n",
       "    <tr style=\"text-align: right;\">\n",
       "      <th></th>\n",
       "      <th>airline_sentiment</th>\n",
       "      <th>text</th>\n",
       "    </tr>\n",
       "  </thead>\n",
       "  <tbody>\n",
       "    <tr>\n",
       "      <th>0</th>\n",
       "      <td>negative</td>\n",
       "      <td>9178</td>\n",
       "    </tr>\n",
       "    <tr>\n",
       "      <th>1</th>\n",
       "      <td>neutral</td>\n",
       "      <td>3099</td>\n",
       "    </tr>\n",
       "    <tr>\n",
       "      <th>2</th>\n",
       "      <td>positive</td>\n",
       "      <td>2363</td>\n",
       "    </tr>\n",
       "  </tbody>\n",
       "</table>\n",
       "</div>"
      ],
      "text/plain": [
       "  airline_sentiment  text\n",
       "0          negative  9178\n",
       "1           neutral  3099\n",
       "2          positive  2363"
      ]
     },
     "execution_count": 75,
     "metadata": {},
     "output_type": "execute_result"
    }
   ],
   "source": [
    "counts = tweets.groupby(['airline_sentiment']).count()\n",
    "counts.reset_index(inplace=True)\n",
    "counts"
   ]
  },
  {
   "cell_type": "code",
   "execution_count": 76,
   "id": "1c2328e3",
   "metadata": {},
   "outputs": [
    {
     "data": {
      "text/plain": [
       "0.6269125683060109"
      ]
     },
     "execution_count": 76,
     "metadata": {},
     "output_type": "execute_result"
    }
   ],
   "source": [
    "naive_baseline = counts[counts['airline_sentiment']=='negative']['text'].values[0] / counts['text'].sum()\n",
    "\n",
    "naive_baseline"
   ]
  },
  {
   "cell_type": "code",
   "execution_count": 77,
   "id": "ac29c5bf",
   "metadata": {},
   "outputs": [
    {
     "data": {
      "text/plain": [
       "{0: 0.531686943889595, 1: 1.5750403442711136, 2: 2.0648801128349787}"
      ]
     },
     "execution_count": 77,
     "metadata": {},
     "output_type": "execute_result"
    }
   ],
   "source": [
    "labels = np.argmax(Y_train, axis=1)\n",
    "weights = compute_class_weight('balanced', classes=np.unique(labels), y=labels)\n",
    "class_weights = dict(enumerate(weights))\n",
    "\n",
    "class_weights"
   ]
  },
  {
   "cell_type": "code",
   "execution_count": 78,
   "id": "c1786f47",
   "metadata": {},
   "outputs": [],
   "source": [
    "input_dimens = x_train.shape[1]\n",
    "output = Y_train.shape[1]\n",
    "optimizer = 'rmsprop'\n",
    "loss_funct = 'categorical_crossentropy'\n",
    "METRICS = ['categorical_accuracy',F1Score(name='f1_score', average='macro'), AUC(name='auc', multi_label=True)]\n",
    "MONITOR = 'val_loss'\n",
    "PATIENCE = 5\n",
    "\n",
    "EARLY_STOP = EarlyStopping(monitor=MONITOR, restore_best_weights=True, patience=PATIENCE, verbose=0)"
   ]
  },
  {
   "cell_type": "code",
   "execution_count": 79,
   "id": "4a7eb4fa",
   "metadata": {},
   "outputs": [
    {
     "name": "stdout",
     "output_type": "stream",
     "text": [
      "Model: \"Baseline\"\n",
      "_________________________________________________________________\n",
      " Layer (type)                Output Shape              Param #   \n",
      "=================================================================\n",
      " dense_1 (Dense)             (None, 3)                 1503      \n",
      "                                                                 \n",
      "=================================================================\n",
      "Total params: 1503 (5.87 KB)\n",
      "Trainable params: 1503 (5.87 KB)\n",
      "Non-trainable params: 0 (0.00 Byte)\n",
      "_________________________________________________________________\n"
     ]
    }
   ],
   "source": [
    "baseline = Sequential([Dense(output, activation='softmax', input_shape=(input_dimens,))],name=\"Baseline\")\n",
    "\n",
    "baseline.summary()"
   ]
  },
  {
   "cell_type": "code",
   "execution_count": 80,
   "id": "1fc9aa34",
   "metadata": {},
   "outputs": [],
   "source": [
    "learning_rate = 0.01\n",
    "batch_size = 512\n",
    "\n",
    "EPOCHS = 100\n",
    "\n",
    "baseline.compile(optimizer=RMSprop(learning_rate=learning_rate),\n",
    "                 loss=loss_funct, metrics=METRICS)\n"
   ]
  },
  {
   "cell_type": "code",
   "execution_count": 81,
   "id": "913198e5",
   "metadata": {},
   "outputs": [
    {
     "name": "stdout",
     "output_type": "stream",
     "text": [
      "Accuracy (Validation): 0.74 (Naive Baseline=0.63)\n",
      "F1 Score (Validation): 0.69\n",
      "AUC (Validation): 0.89\n"
     ]
    }
   ],
   "source": [
    "baseline_history = baseline.fit(x_train, Y_train,\n",
    "                                class_weight=class_weights,\n",
    "                                batch_size=batch_size, epochs=EPOCHS,\n",
    "                                validation_data=(x_val, Y_val),\n",
    "                                callbacks=[EARLY_STOP],\n",
    "                                verbose=0)\n",
    "\n",
    "baseline_scores = baseline.evaluate(x_val, Y_val, verbose=0)[1:]\n",
    "\n",
    "print('Accuracy (Validation): {:.2f} (Naive Baseline={:.2f})'.format(baseline_scores[0], naive_baseline))\n",
    "print('F1 Score (Validation): {:.2f}'.format(baseline_scores[1]))\n",
    "print('AUC (Validation): {:.2f}'.format(baseline_scores[2]))"
   ]
  },
  {
   "cell_type": "code",
   "execution_count": 82,
   "id": "d901a792",
   "metadata": {},
   "outputs": [
    {
     "name": "stdout",
     "output_type": "stream",
     "text": [
      "Balanced Accuracy (Validation): 0.71 (baseline = 0.63)\n"
     ]
    }
   ],
   "source": [
    "preds = baseline.predict(x_val, verbose=0).argmax(axis=1)\n",
    "\n",
    "print('Balanced Accuracy (Validation): {:.2f} (baseline = {:.2f})'.format(balanced_accuracy_score(Y_val.argmax(axis=1), preds), naive_baseline))\n"
   ]
  },
  {
   "cell_type": "code",
   "execution_count": 83,
   "id": "f158f627",
   "metadata": {},
   "outputs": [
    {
     "data": {
      "image/png": "[encoded data removed]",
      "text/plain": [
       "<Figure size 640x480 with 1 Axes>"
      ]
     },
     "metadata": {},
     "output_type": "display_data"
    }
   ],
   "source": [
    "def plot_training_history(history, monitor='loss') :\n",
    "    # Extract training and validation loss values from the history object\n",
    "    loss, val_loss = history.history[monitor], history.history['val_' + monitor]\n",
    "\n",
    "    # Define the x-axis as the number of epochs\n",
    "    epochs = range(1, len(loss) + 1)\n",
    "\n",
    "    # Plot training loss in blue and validation loss in red\n",
    "    plt.plot(epochs, loss, 'b.', label=monitor)\n",
    "    plt.plot(epochs, val_loss, 'r.', label='Validation ' + monitor)\n",
    "\n",
    "    # Set x-axis limits\n",
    "    plt.xlim([0, len(loss)])\n",
    "\n",
    "    # Set plot title and labels\n",
    "    plt.title('Training and Validation ' + monitor + 's')\n",
    "    plt.xlabel('Epochs')\n",
    "    plt.ylabel(monitor)\n",
    "\n",
    "    # Add legend, grid, and display the plot\n",
    "    plt.legend()\n",
    "    plt.grid()\n",
    "    _ = plt.show()\n",
    "    \n",
    "plot_training_history(baseline_history, monitor='loss')"
   ]
  },
  {
   "cell_type": "markdown",
   "id": "84038b70",
   "metadata": {},
   "source": [
    "## 6. Scaling up: develop model that overfits\n",
    "\n",
    "To introduce complexity and increase variance, escalate to a model designed for over-fitting the data. Striking a balance, we include at least one hidden layer with a substantial number of hidden neurons. For the Twitter example, we adopt a configuration of 1 hidden layer and 64 hidden neurons. In this instance, I refer to it as an \"overfitted\" model."
   ]
  },
  {
   "cell_type": "code",
   "execution_count": 84,
   "id": "7cfa0d3d",
   "metadata": {},
   "outputs": [
    {
     "name": "stdout",
     "output_type": "stream",
     "text": [
      "Model: \"Overfit\"\n",
      "_________________________________________________________________\n",
      " Layer (type)                Output Shape              Param #   \n",
      "=================================================================\n",
      " hidden (Dense)              (None, 64)                32064     \n",
      "                                                                 \n",
      " output (Dense)              (None, 3)                 195       \n",
      "                                                                 \n",
      "=================================================================\n",
      "Total params: 32259 (126.01 KB)\n",
      "Trainable params: 32259 (126.01 KB)\n",
      "Non-trainable params: 0 (0.00 Byte)\n",
      "_________________________________________________________________\n"
     ]
    }
   ],
   "source": [
    "overfit = Sequential([Dense(64, activation=\"relu\", input_shape=(input_dimens,), name=\"hidden\"),\n",
    "        Dense(output, activation=\"softmax\", name=\"output\")],name=\"Overfit\"\n",
    ")\n",
    "\n",
    "overfit.summary()"
   ]
  },
  {
   "cell_type": "code",
   "execution_count": 85,
   "id": "ba246a82",
   "metadata": {},
   "outputs": [],
   "source": [
    "learning_rate = 0.0025\n",
    "\n",
    "overfit.compile(optimizer=RMSprop(learning_rate=learning_rate),\n",
    "                loss=loss_funct, metrics=METRICS)"
   ]
  },
  {
   "cell_type": "code",
   "execution_count": 86,
   "id": "ac7ca9be",
   "metadata": {},
   "outputs": [],
   "source": [
    "EPOCHS = 100\n",
    "batch_size=512\n",
    "\n",
    "overfit_history = overfit.fit(x_train, Y_train,\n",
    "                              class_weight=class_weights,\n",
    "                              batch_size=batch_size, epochs=EPOCHS,\n",
    "                              validation_data=(x_val, Y_val),\n",
    "                              callbacks=[],\n",
    "                              verbose=0)"
   ]
  },
  {
   "cell_type": "code",
   "execution_count": 87,
   "id": "b30c15d6",
   "metadata": {},
   "outputs": [
    {
     "name": "stdout",
     "output_type": "stream",
     "text": [
      "Accuracy (Validation): 0.75 (Naive Baseline = 0.63)\n",
      "F1 Score (Validation): 0.68\n",
      "AUC (Validation): 0.87\n"
     ]
    }
   ],
   "source": [
    "overfit_scores = overfit.evaluate(x_val, Y_val, verbose=0)[1:]\n",
    "\n",
    "print('Accuracy (Validation): {:.2f} (Naive Baseline = {:.2f})'.format(overfit_scores[0], naive_baseline))\n",
    "print('F1 Score (Validation): {:.2f}'.format(overfit_scores[1]))\n",
    "print('AUC (Validation): {:.2f}'.format(overfit_scores[2]))"
   ]
  },
  {
   "cell_type": "code",
   "execution_count": 88,
   "id": "276e01b2",
   "metadata": {},
   "outputs": [
    {
     "data": {
      "image/png": "[encoded data removed]",
      "text/plain": [
       "<Figure size 640x480 with 1 Axes>"
      ]
     },
     "metadata": {},
     "output_type": "display_data"
    }
   ],
   "source": [
    "plot_training_history(overfit_history, monitor='loss')\n"
   ]
  },
  {
   "cell_type": "markdown",
   "id": "b680c542",
   "metadata": {},
   "source": [
    "## 7. Regularizing model and tuning hyperparameters:\n",
    "\n",
    "A comprehensive evaluation of various models on a single dataset is a critical review criterion. This necessitates exploring multiple models, not just focusing on our overfitted one. Therefore, I introduce two additional models:\n",
    "\n",
    "- A \"wider\" model, comprising 1 hidden layer, 1 dropout layer, and 128 neurons.\n",
    "- A \"deeper\" model, featuring 2 hidden layers, 2 dropout layers, and 64 neurons for each hidden layer.\n",
    "For the overfitted model, we insert 1 dropout layer and rename it as \"deep.\"\n",
    "\n",
    "The wider and deeper models possess the potential for overfitting due to their increased complexity compared to the deep (or overfitted) model.\n",
    "\n",
    "Subsequently, a grid search and k-fold validation are executed to identify optimal hyperparameters. "
   ]
  },
  {
   "cell_type": "code",
   "execution_count": 89,
   "id": "0e43d5a6",
   "metadata": {},
   "outputs": [
    {
     "name": "stdout",
     "output_type": "stream",
     "text": [
      "Model: \"Deep\"\n",
      "_________________________________________________________________\n",
      " Layer (type)                Output Shape              Param #   \n",
      "=================================================================\n",
      " hidden (Dense)              (None, 64)                32064     \n",
      "                                                                 \n",
      " dropout_5 (Dropout)         (None, 64)                0         \n",
      "                                                                 \n",
      " output (Dense)              (None, 3)                 195       \n",
      "                                                                 \n",
      "=================================================================\n",
      "Total params: 32259 (126.01 KB)\n",
      "Trainable params: 32259 (126.01 KB)\n",
      "Non-trainable params: 0 (0.00 Byte)\n",
      "_________________________________________________________________\n"
     ]
    }
   ],
   "source": [
    "# over-sized model \n",
    "deep = Sequential([ Dense(64,  kernel_regularizer=l2(0.0), activation='relu', input_shape=(input_dimens,), name='hidden'),Dropout(rate=0.5),\n",
    "        Dense(output,  activation='softmax', name='output')], name=\"Deep\"\n",
    ")\n",
    "\n",
    "deep.summary()"
   ]
  },
  {
   "cell_type": "code",
   "execution_count": 90,
   "id": "66c10a8f",
   "metadata": {},
   "outputs": [
    {
     "name": "stdout",
     "output_type": "stream",
     "text": [
      "Model: \"Wider\"\n",
      "_________________________________________________________________\n",
      " Layer (type)                Output Shape              Param #   \n",
      "=================================================================\n",
      " hidden (Dense)              (None, 128)               64128     \n",
      "                                                                 \n",
      " dropout_6 (Dropout)         (None, 128)               0         \n",
      "                                                                 \n",
      " ouput (Dense)               (None, 3)                 387       \n",
      "                                                                 \n",
      "=================================================================\n",
      "Total params: 64515 (252.01 KB)\n",
      "Trainable params: 64515 (252.01 KB)\n",
      "Non-trainable params: 0 (0.00 Byte)\n",
      "_________________________________________________________________\n"
     ]
    }
   ],
   "source": [
    "wider = Sequential([Dense(128,  kernel_regularizer=l2(0.0), activation='relu', input_shape=(input_dimens,), name='hidden'),Dropout(0.5),\n",
    "        Dense(output,  activation='softmax', name='ouput')],name = 'Wider'\n",
    ")\n",
    "\n",
    "wider.summary()"
   ]
  },
  {
   "cell_type": "code",
   "execution_count": 91,
   "id": "cc41fc00",
   "metadata": {},
   "outputs": [
    {
     "name": "stdout",
     "output_type": "stream",
     "text": [
      "Model: \"Deeper\"\n",
      "_________________________________________________________________\n",
      " Layer (type)                Output Shape              Param #   \n",
      "=================================================================\n",
      " hidden.0 (Dense)            (None, 64)                32064     \n",
      "                                                                 \n",
      " dropout_7 (Dropout)         (None, 64)                0         \n",
      "                                                                 \n",
      " hidden.1 (Dense)            (None, 64)                4160      \n",
      "                                                                 \n",
      " dropout_8 (Dropout)         (None, 64)                0         \n",
      "                                                                 \n",
      " output (Dense)              (None, 3)                 195       \n",
      "                                                                 \n",
      "=================================================================\n",
      "Total params: 36419 (142.26 KB)\n",
      "Trainable params: 36419 (142.26 KB)\n",
      "Non-trainable params: 0 (0.00 Byte)\n",
      "_________________________________________________________________\n"
     ]
    }
   ],
   "source": [
    "deeper = Sequential([Dense(64,  kernel_regularizer=l2(0.0), activation='relu', input_shape=(input_dimens,), name='hidden.0'),\n",
    "        Dropout(rate=0.5),\n",
    "        Dense(64,  kernel_regularizer=l2(0.0), activation='relu', name='hidden.1'),\n",
    "        Dropout(rate=0.5),\n",
    "        Dense(output,  activation='softmax', name='output')],name = 'Deeper'\n",
    ")\n",
    "\n",
    "deeper.summary()"
   ]
  },
  {
   "cell_type": "code",
   "execution_count": 92,
   "id": "c2335818",
   "metadata": {},
   "outputs": [
    {
     "name": "stdout",
     "output_type": "stream",
     "text": [
      "Model: \"Narrower\"\n",
      "_________________________________________________________________\n",
      " Layer (type)                Output Shape              Param #   \n",
      "=================================================================\n",
      " hidden (Dense)              (None, 32)                16032     \n",
      "                                                                 \n",
      " dropout_9 (Dropout)         (None, 32)                0         \n",
      "                                                                 \n",
      " output (Dense)              (None, 3)                 99        \n",
      "                                                                 \n",
      "=================================================================\n",
      "Total params: 16131 (63.01 KB)\n",
      "Trainable params: 16131 (63.01 KB)\n",
      "Non-trainable params: 0 (0.00 Byte)\n",
      "_________________________________________________________________\n"
     ]
    }
   ],
   "source": [
    "narrower = Sequential([ Dense(32,  kernel_regularizer=l2(0.0), activation='relu', input_shape=(input_dimens,), name='hidden'),\n",
    "        Dropout(rate=0.5),\n",
    "        Dense(output,  activation='softmax', name='output')],name = 'Narrower'\n",
    ")\n",
    "\n",
    "narrower.summary()"
   ]
  },
  {
   "cell_type": "code",
   "execution_count": 93,
   "id": "ae29688d",
   "metadata": {},
   "outputs": [],
   "source": [
    "parameters = {\n",
    "    'dropout': [0.0, 0.25], #25% units drop\n",
    "    'alpha': [0.0, 0.001], #L2 regularization strength\n",
    "    'learning_rate': [0.005],\n",
    "    'batch_size': [512]\n",
    "}\n",
    "\n",
    "\n",
    "EPOCHS = 500\n",
    "KFOLDS = 5"
   ]
  },
  {
   "cell_type": "code",
   "execution_count": 94,
   "id": "d7934161",
   "metadata": {},
   "outputs": [],
   "source": [
    "def cross_validation(X, y, cv, model, class_weight, param_grid, loss, metrics, epochs, callbacks, seed=0) :\n",
    "    kf = KFold(n_splits=cv)\n",
    "    keys, values = zip(*param_grid.items())\n",
    "\n",
    "    cvs = {}\n",
    "    for params in [dict(zip(keys, v)) for v in itertools.product(*values)] :\n",
    "        scores = []\n",
    "        for i, (train_index, test_index) in enumerate(kf.split(X)) :\n",
    "            nn = clone_model(model)\n",
    "\n",
    "            for layer in nn.layers :\n",
    "                if type(layer) == keras.src.layers.regularization.dropout.Dropout :\n",
    "                    layer.rate = params['dropout']\n",
    "\n",
    "                if type(layer) == keras.src.layers.core.dense.Dense :\n",
    "                     if (layer.activation != 'softmax') or (layer._name != 'output') :\n",
    "                        layer.kernel_regularizer = l2(params['alpha'])\n",
    "\n",
    "            nn.compile(optimizer=RMSprop(learning_rate=params['learning_rate']),\n",
    "                       loss=loss, metrics=metrics)\n",
    "\n",
    "\n",
    "            nn.fit(X[train_index,:], y[train_index,:],\n",
    "                   class_weight=class_weight,\n",
    "                   batch_size=params['batch_size'], epochs=epochs,\n",
    "                   validation_data=(X[test_index,:], y[test_index,:]),\n",
    "                   callbacks=callbacks,\n",
    "                   verbose=0)\n",
    "\n",
    "            scores.append(nn.evaluate(x_val, Y_val, verbose=0)[1:])\n",
    "\n",
    "            del nn\n",
    "\n",
    "        cvs[str(params)] = np.array(scores).mean(axis=0)\n",
    "\n",
    "    return cvs"
   ]
  },
  {
   "cell_type": "code",
   "execution_count": 95,
   "id": "f141e595",
   "metadata": {},
   "outputs": [],
   "source": [
    "cvs_deep = cross_validation(x_train, Y_train, cv=5, model=deep,\n",
    "                            class_weight=class_weights,\n",
    "                            param_grid=parameters, loss=loss_funct, metrics=METRICS,\n",
    "                            epochs=EPOCHS,\n",
    "                            callbacks=[EARLY_STOP], seed=SEED)"
   ]
  },
  {
   "cell_type": "code",
   "execution_count": 96,
   "id": "bd500b0d",
   "metadata": {},
   "outputs": [],
   "source": [
    "def dict_to_dataframe(cvs, metrics) :\n",
    "    entries = []\n",
    "    for key, value in cvs.items() :\n",
    "        entry = eval(key)\n",
    "\n",
    "        for metric, score in zip(metrics, value) :\n",
    "            entry[metric] = score\n",
    "\n",
    "        entries.append(entry)\n",
    "\n",
    "    return pd.DataFrame(entries)"
   ]
  },
  {
   "cell_type": "code",
   "execution_count": 97,
   "id": "56fd5a91",
   "metadata": {},
   "outputs": [
    {
     "data": {
      "text/html": [
       "<div>\n",
       "<style scoped>\n",
       "    .dataframe tbody tr th:only-of-type {\n",
       "        vertical-align: middle;\n",
       "    }\n",
       "\n",
       "    .dataframe tbody tr th {\n",
       "        vertical-align: top;\n",
       "    }\n",
       "\n",
       "    .dataframe thead th {\n",
       "        text-align: right;\n",
       "    }\n",
       "</style>\n",
       "<table border=\"1\" class=\"dataframe\">\n",
       "  <thead>\n",
       "    <tr style=\"text-align: right;\">\n",
       "      <th></th>\n",
       "      <th>dropout</th>\n",
       "      <th>alpha</th>\n",
       "      <th>learning_rate</th>\n",
       "      <th>batch_size</th>\n",
       "      <th>accuracy</th>\n",
       "      <th>f1_score</th>\n",
       "      <th>auc</th>\n",
       "    </tr>\n",
       "  </thead>\n",
       "  <tbody>\n",
       "    <tr>\n",
       "      <th>3</th>\n",
       "      <td>0.25</td>\n",
       "      <td>0.001</td>\n",
       "      <td>0.005</td>\n",
       "      <td>512</td>\n",
       "      <td>0.750273</td>\n",
       "      <td>0.695514</td>\n",
       "      <td>0.883257</td>\n",
       "    </tr>\n",
       "    <tr>\n",
       "      <th>0</th>\n",
       "      <td>0.00</td>\n",
       "      <td>0.000</td>\n",
       "      <td>0.005</td>\n",
       "      <td>512</td>\n",
       "      <td>0.746926</td>\n",
       "      <td>0.690209</td>\n",
       "      <td>0.882805</td>\n",
       "    </tr>\n",
       "    <tr>\n",
       "      <th>2</th>\n",
       "      <td>0.25</td>\n",
       "      <td>0.000</td>\n",
       "      <td>0.005</td>\n",
       "      <td>512</td>\n",
       "      <td>0.752391</td>\n",
       "      <td>0.696104</td>\n",
       "      <td>0.882561</td>\n",
       "    </tr>\n",
       "    <tr>\n",
       "      <th>1</th>\n",
       "      <td>0.00</td>\n",
       "      <td>0.001</td>\n",
       "      <td>0.005</td>\n",
       "      <td>512</td>\n",
       "      <td>0.746516</td>\n",
       "      <td>0.692344</td>\n",
       "      <td>0.882211</td>\n",
       "    </tr>\n",
       "  </tbody>\n",
       "</table>\n",
       "</div>"
      ],
      "text/plain": [
       "   dropout  alpha  learning_rate  batch_size  accuracy  f1_score       auc\n",
       "3     0.25  0.001          0.005         512  0.750273  0.695514  0.883257\n",
       "0     0.00  0.000          0.005         512  0.746926  0.690209  0.882805\n",
       "2     0.25  0.000          0.005         512  0.752391  0.696104  0.882561\n",
       "1     0.00  0.001          0.005         512  0.746516  0.692344  0.882211"
      ]
     },
     "execution_count": 97,
     "metadata": {},
     "output_type": "execute_result"
    }
   ],
   "source": [
    "cvs_deep = dict_to_dataframe(cvs=cvs_deep, metrics=['accuracy', 'f1_score', 'auc'])\n",
    "\n",
    "cvs_deep.sort_values(by=['auc'], ascending=False).head(10)"
   ]
  },
  {
   "cell_type": "code",
   "execution_count": 98,
   "id": "608aeab8",
   "metadata": {},
   "outputs": [],
   "source": [
    "# best param by AUC (0.883169) deep\n",
    "# dropout 0.25\n",
    "# alpha 0.000\n",
    "# learning rate 0.005\n",
    "# batch size 512"
   ]
  },
  {
   "cell_type": "code",
   "execution_count": 99,
   "id": "47bd5da2",
   "metadata": {},
   "outputs": [],
   "source": [
    "cvs_deeper = cross_validation(x_train, Y_train, cv=5, model=deeper,\n",
    "                            class_weight=class_weights,\n",
    "                            param_grid=parameters, loss=loss_funct, metrics=METRICS,\n",
    "                            epochs=EPOCHS,\n",
    "                            callbacks=[EARLY_STOP], seed=SEED)"
   ]
  },
  {
   "cell_type": "code",
   "execution_count": 100,
   "id": "9d9fed22",
   "metadata": {},
   "outputs": [
    {
     "data": {
      "text/html": [
       "<div>\n",
       "<style scoped>\n",
       "    .dataframe tbody tr th:only-of-type {\n",
       "        vertical-align: middle;\n",
       "    }\n",
       "\n",
       "    .dataframe tbody tr th {\n",
       "        vertical-align: top;\n",
       "    }\n",
       "\n",
       "    .dataframe thead th {\n",
       "        text-align: right;\n",
       "    }\n",
       "</style>\n",
       "<table border=\"1\" class=\"dataframe\">\n",
       "  <thead>\n",
       "    <tr style=\"text-align: right;\">\n",
       "      <th></th>\n",
       "      <th>dropout</th>\n",
       "      <th>alpha</th>\n",
       "      <th>learning_rate</th>\n",
       "      <th>batch_size</th>\n",
       "      <th>accuracy</th>\n",
       "      <th>f1_score</th>\n",
       "      <th>auc</th>\n",
       "    </tr>\n",
       "  </thead>\n",
       "  <tbody>\n",
       "    <tr>\n",
       "      <th>3</th>\n",
       "      <td>0.25</td>\n",
       "      <td>0.001</td>\n",
       "      <td>0.005</td>\n",
       "      <td>512</td>\n",
       "      <td>0.764413</td>\n",
       "      <td>0.699769</td>\n",
       "      <td>0.883575</td>\n",
       "    </tr>\n",
       "    <tr>\n",
       "      <th>0</th>\n",
       "      <td>0.00</td>\n",
       "      <td>0.000</td>\n",
       "      <td>0.005</td>\n",
       "      <td>512</td>\n",
       "      <td>0.760656</td>\n",
       "      <td>0.696027</td>\n",
       "      <td>0.882630</td>\n",
       "    </tr>\n",
       "    <tr>\n",
       "      <th>2</th>\n",
       "      <td>0.25</td>\n",
       "      <td>0.000</td>\n",
       "      <td>0.005</td>\n",
       "      <td>512</td>\n",
       "      <td>0.755464</td>\n",
       "      <td>0.692283</td>\n",
       "      <td>0.882432</td>\n",
       "    </tr>\n",
       "    <tr>\n",
       "      <th>1</th>\n",
       "      <td>0.00</td>\n",
       "      <td>0.001</td>\n",
       "      <td>0.005</td>\n",
       "      <td>512</td>\n",
       "      <td>0.758333</td>\n",
       "      <td>0.695794</td>\n",
       "      <td>0.882034</td>\n",
       "    </tr>\n",
       "  </tbody>\n",
       "</table>\n",
       "</div>"
      ],
      "text/plain": [
       "   dropout  alpha  learning_rate  batch_size  accuracy  f1_score       auc\n",
       "3     0.25  0.001          0.005         512  0.764413  0.699769  0.883575\n",
       "0     0.00  0.000          0.005         512  0.760656  0.696027  0.882630\n",
       "2     0.25  0.000          0.005         512  0.755464  0.692283  0.882432\n",
       "1     0.00  0.001          0.005         512  0.758333  0.695794  0.882034"
      ]
     },
     "execution_count": 100,
     "metadata": {},
     "output_type": "execute_result"
    }
   ],
   "source": [
    "cvs_deeper = dict_to_dataframe(cvs=cvs_deeper, metrics=['accuracy', 'f1_score', 'auc'])\n",
    "\n",
    "cvs_deeper.sort_values(by=['auc'], ascending=False).head(10)"
   ]
  },
  {
   "cell_type": "code",
   "execution_count": 101,
   "id": "585fec0a",
   "metadata": {},
   "outputs": [],
   "source": [
    "# best param by AUC (0.883569) deeper\n",
    "# dropout 0.25\n",
    "# alpha 0.001\n",
    "# learning rate 0.005\n",
    "# batch size 512"
   ]
  },
  {
   "cell_type": "code",
   "execution_count": 102,
   "id": "873a0ed7",
   "metadata": {},
   "outputs": [],
   "source": [
    "cvs_wider = cross_validation(x_train, Y_train, cv=5, model=wider,\n",
    "                             class_weight=class_weights,\n",
    "                             param_grid=parameters, loss=loss_funct, metrics=METRICS,\n",
    "                             epochs=EPOCHS,\n",
    "                             callbacks=[EARLY_STOP], seed=SEED)"
   ]
  },
  {
   "cell_type": "code",
   "execution_count": 103,
   "id": "5d08ff25",
   "metadata": {},
   "outputs": [
    {
     "data": {
      "text/html": [
       "<div>\n",
       "<style scoped>\n",
       "    .dataframe tbody tr th:only-of-type {\n",
       "        vertical-align: middle;\n",
       "    }\n",
       "\n",
       "    .dataframe tbody tr th {\n",
       "        vertical-align: top;\n",
       "    }\n",
       "\n",
       "    .dataframe thead th {\n",
       "        text-align: right;\n",
       "    }\n",
       "</style>\n",
       "<table border=\"1\" class=\"dataframe\">\n",
       "  <thead>\n",
       "    <tr style=\"text-align: right;\">\n",
       "      <th></th>\n",
       "      <th>dropout</th>\n",
       "      <th>alpha</th>\n",
       "      <th>learning_rate</th>\n",
       "      <th>batch_size</th>\n",
       "      <th>accuracy</th>\n",
       "      <th>f1_score</th>\n",
       "      <th>auc</th>\n",
       "    </tr>\n",
       "  </thead>\n",
       "  <tbody>\n",
       "    <tr>\n",
       "      <th>3</th>\n",
       "      <td>0.25</td>\n",
       "      <td>0.001</td>\n",
       "      <td>0.005</td>\n",
       "      <td>512</td>\n",
       "      <td>0.756216</td>\n",
       "      <td>0.698310</td>\n",
       "      <td>0.883942</td>\n",
       "    </tr>\n",
       "    <tr>\n",
       "      <th>2</th>\n",
       "      <td>0.25</td>\n",
       "      <td>0.000</td>\n",
       "      <td>0.005</td>\n",
       "      <td>512</td>\n",
       "      <td>0.753142</td>\n",
       "      <td>0.697339</td>\n",
       "      <td>0.883479</td>\n",
       "    </tr>\n",
       "    <tr>\n",
       "      <th>1</th>\n",
       "      <td>0.00</td>\n",
       "      <td>0.001</td>\n",
       "      <td>0.005</td>\n",
       "      <td>512</td>\n",
       "      <td>0.753142</td>\n",
       "      <td>0.691843</td>\n",
       "      <td>0.882967</td>\n",
       "    </tr>\n",
       "    <tr>\n",
       "      <th>0</th>\n",
       "      <td>0.00</td>\n",
       "      <td>0.000</td>\n",
       "      <td>0.005</td>\n",
       "      <td>512</td>\n",
       "      <td>0.748497</td>\n",
       "      <td>0.691606</td>\n",
       "      <td>0.881715</td>\n",
       "    </tr>\n",
       "  </tbody>\n",
       "</table>\n",
       "</div>"
      ],
      "text/plain": [
       "   dropout  alpha  learning_rate  batch_size  accuracy  f1_score       auc\n",
       "3     0.25  0.001          0.005         512  0.756216  0.698310  0.883942\n",
       "2     0.25  0.000          0.005         512  0.753142  0.697339  0.883479\n",
       "1     0.00  0.001          0.005         512  0.753142  0.691843  0.882967\n",
       "0     0.00  0.000          0.005         512  0.748497  0.691606  0.881715"
      ]
     },
     "execution_count": 103,
     "metadata": {},
     "output_type": "execute_result"
    }
   ],
   "source": [
    "cvs_wider = dict_to_dataframe(cvs=cvs_wider, metrics=['accuracy', 'f1_score', 'auc'])\n",
    "\n",
    "cvs_wider.sort_values(by=['auc'], ascending=False).head(10)"
   ]
  },
  {
   "cell_type": "code",
   "execution_count": 104,
   "id": "aa5f59e5",
   "metadata": {},
   "outputs": [],
   "source": [
    "# best param by AUC (0.883359) wider\n",
    "# dropout 0.25\n",
    "# alpha 0.000\n",
    "# learning rate 0.005\n",
    "# batch size 512"
   ]
  },
  {
   "cell_type": "code",
   "execution_count": 105,
   "id": "a2a9ac5c",
   "metadata": {},
   "outputs": [],
   "source": [
    "cvs_narrower = cross_validation(x_train, Y_train, cv=5, model=narrower,\n",
    "                                class_weight=class_weights,\n",
    "                                param_grid=parameters, loss=loss_funct, metrics=METRICS,\n",
    "                                epochs=EPOCHS,\n",
    "                                callbacks=[EARLY_STOP], seed=SEED)"
   ]
  },
  {
   "cell_type": "code",
   "execution_count": 106,
   "id": "6e42f3fb",
   "metadata": {},
   "outputs": [
    {
     "data": {
      "text/html": [
       "<div>\n",
       "<style scoped>\n",
       "    .dataframe tbody tr th:only-of-type {\n",
       "        vertical-align: middle;\n",
       "    }\n",
       "\n",
       "    .dataframe tbody tr th {\n",
       "        vertical-align: top;\n",
       "    }\n",
       "\n",
       "    .dataframe thead th {\n",
       "        text-align: right;\n",
       "    }\n",
       "</style>\n",
       "<table border=\"1\" class=\"dataframe\">\n",
       "  <thead>\n",
       "    <tr style=\"text-align: right;\">\n",
       "      <th></th>\n",
       "      <th>dropout</th>\n",
       "      <th>alpha</th>\n",
       "      <th>learning_rate</th>\n",
       "      <th>batch_size</th>\n",
       "      <th>accuracy</th>\n",
       "      <th>f1_score</th>\n",
       "      <th>auc</th>\n",
       "    </tr>\n",
       "  </thead>\n",
       "  <tbody>\n",
       "    <tr>\n",
       "      <th>2</th>\n",
       "      <td>0.25</td>\n",
       "      <td>0.000</td>\n",
       "      <td>0.005</td>\n",
       "      <td>512</td>\n",
       "      <td>0.747746</td>\n",
       "      <td>0.693197</td>\n",
       "      <td>0.883151</td>\n",
       "    </tr>\n",
       "    <tr>\n",
       "      <th>0</th>\n",
       "      <td>0.00</td>\n",
       "      <td>0.000</td>\n",
       "      <td>0.005</td>\n",
       "      <td>512</td>\n",
       "      <td>0.748497</td>\n",
       "      <td>0.693023</td>\n",
       "      <td>0.882784</td>\n",
       "    </tr>\n",
       "    <tr>\n",
       "      <th>1</th>\n",
       "      <td>0.00</td>\n",
       "      <td>0.001</td>\n",
       "      <td>0.005</td>\n",
       "      <td>512</td>\n",
       "      <td>0.744467</td>\n",
       "      <td>0.692006</td>\n",
       "      <td>0.882345</td>\n",
       "    </tr>\n",
       "    <tr>\n",
       "      <th>3</th>\n",
       "      <td>0.25</td>\n",
       "      <td>0.001</td>\n",
       "      <td>0.005</td>\n",
       "      <td>512</td>\n",
       "      <td>0.748497</td>\n",
       "      <td>0.695478</td>\n",
       "      <td>0.882302</td>\n",
       "    </tr>\n",
       "  </tbody>\n",
       "</table>\n",
       "</div>"
      ],
      "text/plain": [
       "   dropout  alpha  learning_rate  batch_size  accuracy  f1_score       auc\n",
       "2     0.25  0.000          0.005         512  0.747746  0.693197  0.883151\n",
       "0     0.00  0.000          0.005         512  0.748497  0.693023  0.882784\n",
       "1     0.00  0.001          0.005         512  0.744467  0.692006  0.882345\n",
       "3     0.25  0.001          0.005         512  0.748497  0.695478  0.882302"
      ]
     },
     "execution_count": 106,
     "metadata": {},
     "output_type": "execute_result"
    }
   ],
   "source": [
    "cvs_narrower = dict_to_dataframe(cvs=cvs_narrower, metrics=['accuracy', 'f1_score', 'auc'])\n",
    "\n",
    "cvs_narrower.sort_values(by=['auc'], ascending=False).head(10)"
   ]
  },
  {
   "cell_type": "code",
   "execution_count": 107,
   "id": "d20f4464",
   "metadata": {},
   "outputs": [],
   "source": [
    "# best param by AUC (0.884238) narrower\n",
    "# dropout 0.25\n",
    "# alpha 0.000\n",
    "# learning rate 0.005\n",
    "# batch size 512"
   ]
  },
  {
   "cell_type": "markdown",
   "id": "031ab43f",
   "metadata": {},
   "source": [
    "## 8. Testing"
   ]
  },
  {
   "cell_type": "code",
   "execution_count": 108,
   "id": "09bfbd1f",
   "metadata": {},
   "outputs": [],
   "source": [
    "#deep\n",
    "best_params = {\n",
    "    'dropout': 0.25,\n",
    "    'alpha': 0.00,\n",
    "    'learning_rate': 0.005,\n",
    "    'batch_size': 512\n",
    "}\n",
    "\n",
    "best_model = clone_model(deep)\n",
    "best_model.layers[0].kernel_regularizer = l2(best_params['alpha'])\n",
    "best_model.layers[1].rate = best_params['dropout'] # dropout layer\n",
    "\n",
    "best_model.compile(optimizer=RMSprop(learning_rate=best_params['learning_rate']),\n",
    "                   loss=loss_funct, metrics=METRICS)\n",
    "\n",
    "history = best_model.fit(x_train, Y_train,\n",
    "                         class_weight=class_weights,\n",
    "                         batch_size=best_params['batch_size'], epochs=EPOCHS,\n",
    "                         validation_data=(x_val, Y_val),\n",
    "                         callbacks=[EARLY_STOP],\n",
    "                         verbose=0)"
   ]
  },
  {
   "cell_type": "code",
   "execution_count": 109,
   "id": "0cf7665e",
   "metadata": {},
   "outputs": [
    {
     "name": "stdout",
     "output_type": "stream",
     "text": [
      "Accuracy (Validation): 0.76 (Naive Baseline = 0.63)\n",
      "F1 Score (Validation): 0.70\n",
      "AUC (Validation): 0.89\n"
     ]
    }
   ],
   "source": [
    "validation_scores = best_model.evaluate(x_val, Y_val, verbose=0)[1:]\n",
    "\n",
    "print('Accuracy (Validation): {:.2f} (Naive Baseline = {:.2f})'.format(validation_scores[0], naive_baseline))\n",
    "print('F1 Score (Validation): {:.2f}'.format(validation_scores[1]))\n",
    "print('AUC (Validation): {:.2f}'.format(validation_scores[2]))"
   ]
  },
  {
   "cell_type": "code",
   "execution_count": 110,
   "id": "63cdb9fa",
   "metadata": {},
   "outputs": [
    {
     "data": {
      "image/png": "[encoded data removed]",
      "text/plain": [
       "<Figure size 640x480 with 1 Axes>"
      ]
     },
     "metadata": {},
     "output_type": "display_data"
    }
   ],
   "source": [
    "plot_training_history(history, monitor='loss')"
   ]
  },
  {
   "cell_type": "code",
   "execution_count": 111,
   "id": "74bed3d6",
   "metadata": {},
   "outputs": [
    {
     "name": "stdout",
     "output_type": "stream",
     "text": [
      "Accuracy (Test): 0.76 (Naive Baseline = 0.63)\n",
      "F1 Score (Test): 0.71\n",
      "AUC (Test): 0.88\n"
     ]
    }
   ],
   "source": [
    "test_scores = best_model.evaluate(x_test, Y_test, verbose=0)[1:]\n",
    "\n",
    "print('Accuracy (Test): {:.2f} (Naive Baseline = {:.2f})'.format(test_scores[0], naive_baseline))\n",
    "print('F1 Score (Test): {:.2f}'.format(test_scores[1]))\n",
    "print('AUC (Test): {:.2f}'.format(test_scores[2]))"
   ]
  },
  {
   "cell_type": "markdown",
   "id": "21c6f03a",
   "metadata": {},
   "source": [
    "In the evaluation of the model on the test set, the accuracy achieved is 76%, surpassing the baseline accuracy of 63% set by a naive approach. The F1 score, a metric that balances precision and recall, is reported as 0.71, indicating a favorable overall performance. Additionally, the AUC score, a measure of the model's ability to distinguish between classes, stands at 0.88, further highlighting its effectiveness in capturing nuanced sentiment patterns in the Twitter US Airline dataset."
   ]
  },
  {
   "cell_type": "markdown",
   "id": "0979e14f",
   "metadata": {},
   "source": [
    "## References: \n",
    "    [1] Michelle Du, 2019. Discovering and Classifying In-app Message Intent at Airbnb: https://medium.com/airbnb-engineering/discovering-and-classifying-in-app-message-intent-at-airbnb-6a55f5400a0c\n",
    "    \n",
    "    [2] Priya Vrat Misra, 2023. Challenges with UnStructured Data: https://quilibet.medium.com/challenges-with-unstructured-data-5dbfca251f61"
   ]
  }
 ],
 "metadata": {
  "kernelspec": {
   "display_name": "Python 3 (ipykernel)",
   "language": "python",
   "name": "python3"
  },
  "language_info": {
   "codemirror_mode": {
    "name": "ipython",
    "version": 3
   },
   "file_extension": ".py",
   "mimetype": "text/x-python",
   "name": "python",
   "nbconvert_exporter": "python",
   "pygments_lexer": "ipython3",
   "version": "3.9.13"
  }
 },
 "nbformat": 4,
 "nbformat_minor": 5
}
